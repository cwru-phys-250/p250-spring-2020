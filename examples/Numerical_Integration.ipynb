{
 "cells": [
  {
   "cell_type": "markdown",
   "metadata": {},
   "source": [
    "# Numerical Integration\n",
    "\n",
    "Here we will study numerical integration in Python as provided by routines in `scipy.integrate`.  The main routine is `quad`, but there are many other methods implemented that are useful in some circumstances."
   ]
  },
  {
   "cell_type": "markdown",
   "metadata": {},
   "source": [
    "## Initialization"
   ]
  },
  {
   "cell_type": "code",
   "execution_count": 1,
   "metadata": {},
   "outputs": [],
   "source": [
    "import numpy as np\n",
    "import matplotlib.pyplot as plt\n",
    "%matplotlib inline\n",
    "import scipy.integrate as integ\n",
    "import scipy.optimize as opt\n",
    "import scipy.interpolate as interp\n",
    "# Globally fix plot styling\n",
    "import matplotlib as mpl\n",
    "mpl.rc('xtick', direction='in', top=True)\n",
    "mpl.rc('ytick', direction='in', right=True)\n",
    "mpl.rc('xtick.minor', visible=True)\n",
    "mpl.rc('ytick.minor', visible=True)"
   ]
  },
  {
   "cell_type": "markdown",
   "metadata": {},
   "source": [
    "## Documentation\n",
    "\n",
    "As always we should check the documentation.  There are routines for Newton-Cotes integration, `newton_cotes`, for integrating functions, in particular `romberg` and `quad`, and for integrating from tabulated values, in particular `cumtrapz`, `simps`, and `romb`.  We should check the documentation for all of these and some of them will be used in the prelab, lab, and homework.  Here we will only look at a few of them."
   ]
  },
  {
   "cell_type": "code",
   "execution_count": null,
   "metadata": {},
   "outputs": [],
   "source": [
    "integ?"
   ]
  },
  {
   "cell_type": "code",
   "execution_count": null,
   "metadata": {},
   "outputs": [],
   "source": [
    "integ."
   ]
  },
  {
   "cell_type": "code",
   "execution_count": null,
   "metadata": {},
   "outputs": [],
   "source": [
    "integ.newton_cotes?"
   ]
  },
  {
   "cell_type": "code",
   "execution_count": 2,
   "metadata": {},
   "outputs": [
    {
     "name": "stdout",
     "output_type": "stream",
     "text": [
      "n=1: [trapezoidal rule]  (array([0.5, 0.5]), -0.08333333333333333)\n",
      "n=2: [Simpson's rule]  (array([0.33333333, 1.33333333, 0.33333333]), -0.011111111111111112)\n",
      "n=10:  (array([ 0.26834148,  1.77535941, -0.81043571,  4.54946288, -4.35155123,\n",
      "        7.1376463 , -4.35155123,  4.54946288, -0.81043571,  1.77535941,\n",
      "        0.26834148]), -0.004118303556134244)\n"
     ]
    }
   ],
   "source": [
    "print(\"n=1: [trapezoidal rule] \", integ.newton_cotes(1))\n",
    "print(\"n=2: [Simpson's rule] \", integ.newton_cotes(2))\n",
    "print(\"n=10: \", integ.newton_cotes(10))"
   ]
  },
  {
   "cell_type": "code",
   "execution_count": null,
   "metadata": {},
   "outputs": [],
   "source": [
    "integ.cumtrapz?"
   ]
  },
  {
   "cell_type": "code",
   "execution_count": null,
   "metadata": {},
   "outputs": [],
   "source": [
    "integ.romberg?"
   ]
  },
  {
   "cell_type": "code",
   "execution_count": null,
   "metadata": {},
   "outputs": [],
   "source": [
    "integ.quad?"
   ]
  },
  {
   "cell_type": "markdown",
   "metadata": {},
   "source": [
    "The work horse routine is `quad`.  It is actually a wrapper for many integration routines and techniques.  In fact, it has so many features that it has its own function to explain some of its more esoteric features, `quad_explain`."
   ]
  },
  {
   "cell_type": "code",
   "execution_count": null,
   "metadata": {},
   "outputs": [],
   "source": [
    "integ.quad_explain()"
   ]
  },
  {
   "cell_type": "markdown",
   "metadata": {},
   "source": [
    "## Using `quad`\n",
    "\n",
    "The main and most powerful routine for integrating functions is `quad`.  To get started using it let us consider a simple integral,\n",
    "$$ \\int_0^2 \\mathrm{e}^x \\,\\mathrm{d}x = \\mathrm{e}^2 - 1. $$\n",
    "We can perform this integral using `quad` as shown below."
   ]
  },
  {
   "cell_type": "code",
   "execution_count": 3,
   "metadata": {},
   "outputs": [
    {
     "data": {
      "text/plain": [
       "(6.3890560989306495, 7.093277186654589e-14)"
      ]
     },
     "execution_count": 3,
     "metadata": {},
     "output_type": "execute_result"
    }
   ],
   "source": [
    "integ.quad(np.exp, 0, 2)"
   ]
  },
  {
   "cell_type": "markdown",
   "metadata": {},
   "source": [
    "Notice that `quad` **returns two quantities.** As described in the documentation these are the value of the integral and an estimate of the error in the integral.  Note that this error estimate is based on the convergence of the integration algorithm, it is **not** the true error.  If `quad` knew the true value it would return it and the error would be zero!\n",
    "\n",
    "In principle we should always check the error estimate as this is an indication of the convergence of the algorithm and how much we should trust the result.  Since `quad` returns the results in what is a called a `tuple` in Python, we can store the results using\n",
    "```python\n",
    "(res, err) = integ.quad(np.exp, 0, 2)\n",
    "```\n",
    "\n",
    "Alternatively we can entirely ignore the error.  This is not good practice, but is often expedient (that is, once we know the integral converges we can start ignoring the error).  Another common idiom is thus to just pull out the result by extracting the first element of the `tuple` (the element with index 0),\n",
    "```python\n",
    "res = integ.quad(np.exp, 0, 2)[0]\n",
    "```\n",
    "\n",
    "For our simple case we have ..."
   ]
  },
  {
   "cell_type": "code",
   "execution_count": 4,
   "metadata": {},
   "outputs": [
    {
     "name": "stdout",
     "output_type": "stream",
     "text": [
      "True value of integral = 6.38905609893065  quad estimate of integral = 6.3890560989306495\n",
      "True error in integral = 8.881784197001252e-16  quad estimate of error = 7.093277186654589e-14\n"
     ]
    }
   ],
   "source": [
    "res_true = np.exp(2) - 1\n",
    "(res, err) = integ.quad(np.exp, 0, 2)\n",
    "print(\"True value of integral =\", res_true, \" quad estimate of integral =\", res)\n",
    "print(\"True error in integral =\", np.abs(res_true-res), \" quad estimate of error =\", err)"
   ]
  },
  {
   "cell_type": "markdown",
   "metadata": {},
   "source": [
    "We can get detailed information of what `quad` is doing by using `full_output=True`."
   ]
  },
  {
   "cell_type": "code",
   "execution_count": 5,
   "metadata": {},
   "outputs": [
    {
     "data": {
      "text/plain": [
       "(6.3890560989306495,\n",
       " 7.093277186654589e-14,\n",
       " {'neval': 21,\n",
       "  'last': 1,\n",
       "  'iord': array([          1,           0,         432,           0,           2,\n",
       "                   0, -2056727498,       32750,  1574602284,       21897,\n",
       "                  -1,          -1,          26,           0,          -1,\n",
       "                  -1, -2056727497,       32750,           1,       21897,\n",
       "                 728,           0,           9,           0, -2056727497,\n",
       "               32750,  1574602312,       21897,           1,       32750,\n",
       "           815124506,  -832812222, -1270046608,       32750,           1,\n",
       "               32750,           1,  -756516946, -1270046544,       32750,\n",
       "         -1269535776,       32750,  -266080157, -1328388061, -1270046480,\n",
       "               32750, -1269535696,       32750,  1578991906,  -673699255],\n",
       "        dtype=int32),\n",
       "  'alist': array([ 0.00000000e+000,  6.94968569e-310, -3.63169662e-161,\n",
       "          6.94968568e-310,  6.94968569e-310, -1.56254445e+187,\n",
       "          6.94968567e-310,  6.94968569e-310,  4.74861963e-070,\n",
       "          6.94968567e-310,  6.94968569e-310,  1.73170009e-320,\n",
       "          6.94968548e-310,  6.94968548e-310,  0.00000000e+000,\n",
       "          0.00000000e+000,  6.94968569e-310, -8.25196008e-155,\n",
       "          6.94968568e-310,  6.94968567e-310,  1.79436803e+189,\n",
       "          6.94968567e-310,  6.94968567e-310, -6.22156957e-242,\n",
       "          6.94968567e-310,  6.94967970e-310,  4.27762691e-091,\n",
       "          6.94968567e-310,  6.94968567e-310, -1.83769201e+273,\n",
       "          6.94968567e-310,  6.94968567e-310,  1.04755746e-133,\n",
       "          6.94968567e-310,  6.94968567e-310,  2.18171964e-173,\n",
       "          6.94968567e-310,  6.94968567e-310,  5.14714350e-266,\n",
       "          6.94968567e-310,  6.94968567e-310, -6.92582961e+265,\n",
       "          6.94968569e-310,  6.94968567e-310,  4.32983065e-117,\n",
       "          6.94968569e-310,  6.94968567e-310,  3.29501106e-096,\n",
       "          6.94968567e-310,  6.94968567e-310]),\n",
       "  'blist': array([ 2.00000000e+000,  6.94968567e-310,  3.67546089e-062,\n",
       "          6.94968567e-310,  6.94968567e-310,  3.82956889e-214,\n",
       "          6.94968567e-310,  6.94968567e-310,  1.61077956e-242,\n",
       "          6.94968567e-310,  4.64661031e-310,  7.07230130e+009,\n",
       "          6.94968567e-310,  4.64661031e-310,  1.63917712e-247,\n",
       "          6.94968567e-310,  4.64661031e-310, -2.68245701e+110,\n",
       "          6.94968567e-310,  4.64661031e-310, -5.11829220e-167,\n",
       "          6.94968567e-310,  4.64661031e-310,  5.83801272e-267,\n",
       "          6.94968567e-310,  4.64661031e-310, -4.12647740e+203,\n",
       "          6.94968567e-310,  4.64661031e-310,  1.98194481e+279,\n",
       "          6.94968567e-310,  4.64661031e-310, -1.61634721e-179,\n",
       "          6.94968567e-310,  4.64661031e-310,  4.35079420e+213,\n",
       "          6.94968567e-310,  4.64661031e-310, -9.83032212e+259,\n",
       "          6.94968567e-310,  4.64661031e-310,  2.63278956e+257,\n",
       "          6.94968567e-310,  4.64661031e-310,  7.69329885e+111,\n",
       "          6.94968567e-310,  4.64661031e-310, -1.45519521e-136,\n",
       "          6.94968567e-310,  4.64661031e-310]),\n",
       "  'rlist': array([ 6.38905610e+000,  6.94968548e-310,  0.00000000e+000,\n",
       "          0.00000000e+000,  6.94968567e-310,  4.64661031e-310,\n",
       "         -1.27776603e+069,  6.94968567e-310,  4.64661031e-310,\n",
       "         -6.07541512e-217,  6.94968567e-310,  4.64661031e-310,\n",
       "         -3.80559082e+053,  6.94968567e-310,  4.64661031e-310,\n",
       "         -1.53022542e-302,  6.94968567e-310,  4.64661031e-310,\n",
       "         -3.30565127e-252,  6.94968567e-310,  4.64661031e-310,\n",
       "         -1.91370304e-014,  6.94968567e-310,  4.64661031e-310,\n",
       "         -6.47238226e-045,  6.94968567e-310,  4.64661031e-310,\n",
       "         -4.06694932e+250,  6.94968567e-310,  4.64661031e-310,\n",
       "         -4.88981462e-187,  6.94968567e-310,  4.64661031e-310,\n",
       "         -1.29614603e+132,  6.94968567e-310,  4.64661031e-310,\n",
       "         -3.60043483e+104,  6.94968567e-310,  4.64661031e-310,\n",
       "         -1.50321754e+125,  6.94968567e-310,  4.64661031e-310,\n",
       "          1.77566734e+105,  6.94968567e-310,  4.64661031e-310,\n",
       "         -1.49543065e+171,  6.94968567e-310,  4.64661031e-310,\n",
       "          5.89866337e+296,  6.94968567e-310]),\n",
       "  'elist': array([ 7.09327719e-014,  6.94968567e-310,  4.64661031e-310,\n",
       "         -1.36319796e-129,  6.94968567e-310,  4.64661031e-310,\n",
       "          1.35981956e-293,  6.94968567e-310,  4.64661031e-310,\n",
       "          2.30228397e+147,  6.94968567e-310,  4.64661031e-310,\n",
       "          5.38533813e+063,  6.94968567e-310,  4.64661031e-310,\n",
       "         -1.98157413e+149,  6.94968567e-310,  4.64661031e-310,\n",
       "         -6.29368191e-085,  6.94968567e-310,  4.64661031e-310,\n",
       "          2.27278327e+111,  6.94968567e-310,  4.64661031e-310,\n",
       "          1.70744951e+245,  6.94968567e-310,  4.64661031e-310,\n",
       "         -2.65357582e+276,  6.94968567e-310,  4.64661031e-310,\n",
       "         -4.53589904e-085,  6.94968567e-310,  4.64661031e-310,\n",
       "         -2.77068332e-218,  6.94968567e-310,  4.64661031e-310,\n",
       "         -3.90372525e+242,  6.94968567e-310,  4.64661031e-310,\n",
       "          6.84730236e+134,  6.94968567e-310,  4.64661031e-310,\n",
       "         -3.23294459e+007,  6.94968567e-310,  4.64661031e-310,\n",
       "          6.47879859e+081,  6.94968567e-310,  4.64661031e-310,\n",
       "         -1.34470641e+085,  6.94968567e-310])})"
      ]
     },
     "execution_count": 5,
     "metadata": {},
     "output_type": "execute_result"
    }
   ],
   "source": [
    "integ.quad(np.exp, 0, 2, full_output=True)"
   ]
  },
  {
   "cell_type": "markdown",
   "metadata": {},
   "source": [
    "This returns a lot of extra information in a data structure called a `dictionary` in Python.  (This is called an associative array, hash map, or something similar in other languages.)  It is best to store this and look at it more closely.  The full details are contained in the description provided by `quad_explain`.  We will focus on only one entry, the number of function evaluations required which is contained in `neval`."
   ]
  },
  {
   "cell_type": "code",
   "execution_count": 6,
   "metadata": {},
   "outputs": [
    {
     "name": "stdout",
     "output_type": "stream",
     "text": [
      "Evaluation of the integral required 21 function evaluations\n"
     ]
    }
   ],
   "source": [
    "(res, err, info) = integ.quad(np.exp, 0, 2, full_output=True)\n",
    "print(\"Evaluation of the integral required\", info['neval'], \"function evaluations\")"
   ]
  },
  {
   "cell_type": "code",
   "execution_count": 7,
   "metadata": {},
   "outputs": [
    {
     "data": {
      "text/plain": [
       "dict_keys(['neval', 'last', 'iord', 'alist', 'blist', 'rlist', 'elist'])"
      ]
     },
     "execution_count": 7,
     "metadata": {},
     "output_type": "execute_result"
    }
   ],
   "source": [
    "info.keys()"
   ]
  },
  {
   "cell_type": "markdown",
   "metadata": {},
   "source": [
    "## Incandescent Light Bulb\n",
    "\n",
    "The great invention of Edison that brought safe, controllable light to the world has now largely been relegated to the dustbin of history due to its energy inefficiency.  Here we will study this through a simple model.  We treat the light bulb as a black body.  This is a simple approximation that describes many of the features of a light bulb, but is not a complete model.  The intensity of a black body, the energy emitted per unit time in some solid angle as a function of the wavelength of the emitted light, is\n",
    "$$ I(\\lambda) = \\frac{2\\pi A h c^2}{\\lambda^5 (\\mathrm{e}^{hc/\\lambda k_B T} - 1)}, $$\n",
    "where $A$ is the surface area of the black body, $h=6.626\\times10^{-34}\\;\\mathrm{J/s}$ is Planck's constant, $c$ is the speed of light, $k_B=1.381\\times10^{-23}\\;\\mathrm{J/K}$ is Boltzmann's constant, and $T$ is the temperature of the object.\n",
    "\n",
    "A black body at any temperature emits at all wavelengths.  Our eye is only sensitive to \"visible light\", that is, wavelengths roughly in the range $300\\le\\lambda(\\mathrm{nm})\\le750$.  Any radiation emitted at smaller or larger frequencies is thus \"wasted energy\" as far as we are concerned.  For this reason let us define the efficiency, $\\eta$, as the ratio of the emitted radiation we can observe to the total emitted radiation\n",
    "$$ \\eta \\equiv \\frac{\\int_{\\lambda_1}^{\\lambda_2} I(\\lambda) \\mathrm{d}\\lambda}{\\int_0^\\infty I(\\lambda) \\mathrm{d}\\lambda}. $$\n",
    "\n",
    "To use these we transform it into a simpler form.  Let $x_i(T) \\equiv \\frac{hc}{\\lambda_i k_B T}$ and note that we can perform the integral in the denominator leaving the efficiency as\n",
    "$$ \\eta(T)  = \\frac{15}{\\pi^4} \\int_{x_2(T)}^{x_1(T)} \\frac{x^3}{\\mathrm{e}^x-1} \\mathrm{d}x. $$\n",
    "We will use $\\lambda_1=300\\;\\mathrm{nm}$ and $\\lambda_2=750\\;\\mathrm{nm}$ in what follows to estimate the efficiency of a light bulb for visible radiation."
   ]
  },
  {
   "cell_type": "markdown",
   "metadata": {},
   "source": [
    "### Loops\n",
    "\n",
    "We wish to find the temperature at which the light bulb runs at maximum efficiency.  To do this we need to evaluate the efficiency for a grid of temperatures.  Unfortunately `quad` does not evaluate the integral over an array of end points so we must resort to writing a loop.  This is one case where we cannot easily avoid doing so.\n",
    "\n",
    "The general structure for a loop in Python is\n",
    "```python\n",
    "for var in list :\n",
    "    do something\n",
    "    do something ...\n",
    "```    \n",
    "\n",
    "Here the `list` is any sort of object that can be iterated.  For our purposes we are going to use a list of array index values.  We will use the function `range` to construct them."
   ]
  },
  {
   "cell_type": "markdown",
   "metadata": {},
   "source": [
    "### Optimal Temperature\n",
    "\n",
    "To calculate the optimal temperature we construct a grid of temperature values and loop over them."
   ]
  },
  {
   "cell_type": "code",
   "execution_count": 8,
   "metadata": {},
   "outputs": [
    {
     "data": {
      "image/png": "[encoded data removed]",
      "text/plain": [
       "<Figure size 432x288 with 1 Axes>"
      ]
     },
     "metadata": {
      "needs_background": "light"
     },
     "output_type": "display_data"
    }
   ],
   "source": [
    "# Some constants to get us going.\n",
    "# We will use the temperature measured in Kelvin.\n",
    "Planckh = 6.62606957e-34 # J s, Planck's constant\n",
    "speedc = 2.99792458e+08 # m/s, speed of light\n",
    "kB = 1.3806488e-23 # J/K, Boltzmann's constant\n",
    "lam1 = 390e-9 # m\n",
    "lam2 = 750e-9 # m\n",
    "# Conversion factors need for the efficiency.\n",
    "x1T = Planckh*speedc / (lam1*kB) # x1*T, in K\n",
    "x2T = Planckh*speedc / (lam2*kB) # x1*T, in K\n",
    "\n",
    "def I(x) :\n",
    "    \"\"\"Blackbody intensity in dimensionless form.\"\"\"\n",
    "    return x**3 / (np.exp(x)-1)\n",
    "\n",
    "def efficiency(T) :\n",
    "    \"\"\"Efficiency of a blackbody.  This is defined as the intensity\n",
    "    emitted in visible wavelengths normalized by the total intensity\n",
    "    of a blackbody with temperature, T, specified in Kelvin.\n",
    "    \"\"\"\n",
    "    return 15/np.pi**4 * integ.quad(I, x2T/T, x1T/T)[0]\n",
    "\n",
    "T = np.linspace(300, 10000, 5000) # Kelvin\n",
    "eta = np.zeros_like(T)\n",
    "for j in range(len(T)) :\n",
    "    eta[j] = efficiency(T[j])\n",
    "    \n",
    "# A quick plot to see what it looks like\n",
    "plt.plot(T, eta, 'k-')\n",
    "plt.xlabel('Temperature (Kelvin)')\n",
    "plt.ylabel('Efficiency');"
   ]
  },
  {
   "cell_type": "markdown",
   "metadata": {},
   "source": [
    "From the quick plot the efficiency always remains below 50 percent and is a maximum at a rather high temperature.  We can find this maximum in a number of ways.  One approach is to find where the derivative is zero.  We can do this using a spline and a root finder."
   ]
  },
  {
   "cell_type": "code",
   "execution_count": 9,
   "metadata": {},
   "outputs": [
    {
     "data": {
      "image/png": "[encoded data removed]",
      "text/plain": [
       "<Figure size 432x288 with 1 Axes>"
      ]
     },
     "metadata": {
      "needs_background": "light"
     },
     "output_type": "display_data"
    }
   ],
   "source": [
    "eta_spline = interp.InterpolatedUnivariateSpline(T, eta)\n",
    "# Calculate its derivative as a function\n",
    "eta_spline_deriv = eta_spline.derivative()\n",
    "Toptimal = opt.brentq(eta_spline_deriv, 4000, 8000)\n",
    "etamax = efficiency(Toptimal)\n",
    "# Make a nice plot of the results\n",
    "plt.plot(T, eta, 'k-')\n",
    "plt.axvline(Toptimal, color='r', ls='--', label=f'Optimal Temperature: {Toptimal:.0f} K')\n",
    "plt.axhline(etamax, color='b', ls='-.', label=f'Maximum efficiency: {100*etamax:.1f}%')\n",
    "plt.legend(loc='best')\n",
    "plt.xlabel('Temperature (Kelvin)')\n",
    "plt.ylabel('Efficiency')\n",
    "plt.title('(In)efficiency of an Incandescent Bulb');"
   ]
  },
  {
   "cell_type": "markdown",
   "metadata": {},
   "source": [
    "The optimal temperature is quite high and the value is not too surprising.  The Sun is the dominant source of light on the Earth and it can also be approximated as a black body.  The surface temperature of the Sun is approximately 5800 K, close to the optimal temperature we find.  The exact connection between the two and the role evolution plays in this is more subtle and must be addressed with some care.  We could easily include a \"response function\" for how the eye responds as a function of wavelength in our analysis, see <a href=\"http://www.phys.ufl.edu/~hagen/phz4710/readings/AJPSofferLynch.pdf\">Soffer and Lynch (1999)</a> for more details.  This would be a more accurate assessment.  Even without that we get the main point, the optimal temperature for operating an incandescent bulb is quite high.\n",
    "\n",
    "Overall we see that an incandescent bulb is incredibly inefficient, particularly since there is no way we would run such a bulb at nearly 7000 K!  Even if we did we would only be running at about 50 percent efficiency.  Of course this analysis should not be taken too literally.  Many things can be/were done to improve the efficiency, an incandescent bulb is not a perfect blackbody, *etc*.  Even so, it shows how big a problem must be overcome to make them even marginally efficient.  Alternate technologies have thus supplanted the venerable incandescent bulb."
   ]
  }
 ],
 "metadata": {
  "anaconda-cloud": {},
  "kernelspec": {
   "display_name": "Python 3",
   "language": "python",
   "name": "python3"
  },
  "language_info": {
   "codemirror_mode": {
    "name": "ipython",
    "version": 3
   },
   "file_extension": ".py",
   "mimetype": "text/x-python",
   "name": "python",
   "nbconvert_exporter": "python",
   "pygments_lexer": "ipython3",
   "version": "3.7.6"
  }
 },
 "nbformat": 4,
 "nbformat_minor": 4
}
