{
 "cells": [
  {
   "cell_type": "markdown",
   "metadata": {},
   "source": [
    "# Numerical Derivatives and Richardson Extrapolation\n",
    "\n",
    "Numerical derivatives are used as the basis for many algorithms, but it is rare that we need to (or want to) take a numerical derivative on its own.  This is due to the fact that we *can* take the derivative analytically for almost every function we encounter, if we need the numerical derivative of tabulated data we are often using interpolation also and can thus just take the derivative of the interpolated function, and taking the numerical derivative of noisy data must be done with care.\n",
    "\n",
    "Though SciPy does contain a routine for calculating the $n^{\\mathrm{th}}$ derivative of a function using center differencing (called `derivative` in `scipy.misc`) we will not be using it.  Center differencing for first order derivatives is simple enough for us to use directly and we will focus on Richardson extrapolation in this example."
   ]
  },
  {
   "cell_type": "markdown",
   "metadata": {},
   "source": [
    "## Initialization\n",
    "\n",
    "As always ...."
   ]
  },
  {
   "cell_type": "code",
   "execution_count": 1,
   "metadata": {},
   "outputs": [],
   "source": [
    "import numpy as np\n",
    "import matplotlib.pyplot as plt\n",
    "%matplotlib inline\n",
    "# Globally fix plot styling\n",
    "import matplotlib as mpl\n",
    "mpl.rc('xtick', direction='in', top=True)\n",
    "mpl.rc('ytick', direction='in', right=True)\n",
    "mpl.rc('xtick.minor', visible=True)\n",
    "mpl.rc('ytick.minor', visible=True)"
   ]
  },
  {
   "cell_type": "markdown",
   "metadata": {},
   "source": [
    "## Richardson Extrapolation\n",
    "\n",
    "Richards extrapolation is a general approach to improve the accuracy of an algorithm.  We will implement it for center differencing below, but it can be applied to a wide class of algorithms.  In fact, we will see it again in the near future under the name \"Romberg integration\".\n",
    "\n",
    "### General Discussion\n",
    "\n",
    "Suppose we have an algorithm that calculates some quantity as a function of step size, $h$, to some accuracy $\\mathcal{O}(h^p)$.  We can think of this algorithm as a function of the step size, $F(h)$.  To leading order we can write this function as\n",
    "$$ F(h) = a_1 + \\alpha_1 h^p + \\mathcal{O}(h^r). $$\n",
    "Here $a_1$ is the \"true value\" which we are looking for and $\\alpha_1$ is an error that causes us to deviate from the true value.  This error grows as $h^p$, that is, this is the leading order accuracy of our algorithm.  Of course there are also other errors in our algorithm, these will grown in some other way which we specify as $h^r$ where $p<r$.  Formally, the true value is just $a_1=F(0)$ so if we could evaluate $F(0)$ we would be done.  Alternatively, if we can find an estimate for $a_1$ by any means we will have an estimate for the true value.\n",
    "\n",
    "For Richardson extrapolation we notice that if we ignore the terms $\\mathcal{O}(h^r)$ in the expression for $F(h)$ above then we have a linear equation in two parameters, $a_1$ and $\\alpha_1$.  Suppose we also know $F(h)$ for some other argument, then we would have two equations for two unknowns which we could solve.  Let $q$ be some number and apply the algorithm for a step size $h/q$, in addition to the step size $h$.  With this we then know $F(h)$ and $F(h/q)$, that is, we have the two equations we needed.  Solving these equations we find\n",
    "$$ a_1 = F(h) - \\frac{F(h) - F(h/q)}{1-q^{-p}}. $$\n",
    "This is our estimate for the true value.\n",
    "\n",
    "Of course this estimate has an error that grows as $h^r$.  What do we do?  We apply Richardson extrapolation again.  By repeatedly applying this procedure we can remove higher and higher order errors producing a more an more accurate result. (In principle, of course in practice a computer has limited precision so this will eventually fail.)"
   ]
  },
  {
   "attachments": {
    "richardson_table.png": {
     "image/png": "[encoded data removed]"
    }
   },
   "cell_type": "markdown",
   "metadata": {},
   "source": [
    "### Center Differencing\n",
    "\n",
    "The general discussion is nice, but rather than continue talking in generalities let us look at a specific example to help make sense of the approach.  For center differencing we calculate the derivative of a function, $f(x)$, at the point $x=z$ using\n",
    "$$ f'(z) = \\frac{f(z+h)-f(z-h)}{2h} + \\mathcal{O}(h^2) + \\mathcal{O}(h^4) + \\cdots. $$\n",
    "In the notation from above this means $p=2$ and $r=4$ and we can write our algorithm as a function of step size $h$ as\n",
    "$$ F_1(h) = \\frac{f(z+h)-f(z-h)}{2h}. $$\n",
    "This estimates the first derivative with an error of $\\mathcal{O}(h^2)$, so it has the form\n",
    "$$ F_1(h) = a_1 + \\alpha_1 h^2. $$\n",
    "\n",
    "Although in principle any $q$ could be chosen, it is convenient to choose $q=2$ so that we evaluate $F_1(h)$ and $F_1(h/2)$ using the center differencing equation.  With these values we then get an estimate for the derivative as given in the general discussion,\n",
    "$$ a_1 = F_1(h) - \\frac{F_1(h)-F_1(h/2)}{1- 1/4} \\equiv F_2(h). $$\n",
    "\n",
    "As noted, we call this estimate $F_2(h)$ and we can improve it by again applying Richardson extrapolation.  For center differencing we saw  that our first estimate will have a residual error $\\mathcal{O}(h^4)$.  Thus we can write it as\n",
    "$$ F_2(h) = a_2 + \\alpha_2 h^4. $$\n",
    "An estimate for $a_2$ is then given by\n",
    "$$ a_2 = F_2(h) - \\frac{F_2(h)-F_2(h/2)}{1-1/16} \\equiv F_3(h). $$\n",
    "We can then repeat the procedure on $F_3(h)$, *etc*.  Notice that to calculate $F_3(h)$ we need $F_2(h/2)$, how do we calculate this?  This is just another case of the general result we have been using,\n",
    "$$ F_2(h/2) = F_1(h/2) - \\frac{F_1(h/2)-F_1(h/4)}{1-1/4}. $$\n",
    "Thus we really are constructing a table of values where the column to left in this table is combined to construct our new estimate:\n",
    "\n",
    "![richardson_table.png](attachment:richardson_table.png)\n",
    "\n",
    "In this table the first column, the $F_1(h/2^n)$, are calculated using our algorithm (in this case center differencing).  *All subsequent columns of the table are just simple algebraic combinations of elements from the previous column.*  Thus, even if we have a complicated algorithm (unlike center differencing which is very simple and quick to calculate), we can easily improve the accuracy of our estimate.  At each step the best estimate should be contained on the diagonal entries, $F_1(h)$ at the first step, $F_2(h)$ at the second step, *etc*."
   ]
  },
  {
   "cell_type": "markdown",
   "metadata": {},
   "source": [
    "## Implementation\n",
    "\n",
    "Here is an implementation of Richardson extrapolation for center differencing.  It sacrifices a little in efficiency for readability."
   ]
  },
  {
   "cell_type": "code",
   "execution_count": 2,
   "metadata": {},
   "outputs": [],
   "source": [
    "def richardson_center (f, z, h, nsteps, args=()) :\n",
    "    \"\"\"Evaluate the first derivative of a function at z, that is f'(z),\n",
    "    using Richardson extrapolation and center differencing.\n",
    "\n",
    "    Returned is the full table of approximations, Fij for j <= i. The\n",
    "    values of Fij for j > i are set to zero.  The final value F[-1,-1]\n",
    "    should be the most accurate estimate.\n",
    "\n",
    "    Parameters\n",
    "    ----------\n",
    "    f : function\n",
    "        Vectorized Python function.\n",
    "        This is the function for which we are estimating the derivative.\n",
    "    z : number\n",
    "        Value at which to evaluate the derivative.\n",
    "    h : number\n",
    "        Initial stepsize.\n",
    "    nsteps : integer\n",
    "        Number of steps to perform.\n",
    "    args : tuple, optional\n",
    "        extra arguments to pass to the function, f.\n",
    "    \"\"\"\n",
    "    # Extra check to allow for args=(1) to be handled properly.  This is a\n",
    "    # technical detail that you do not need to worry about.\n",
    "    if not isinstance(args, (tuple, list, np.ndarray)) :\n",
    "        args = (args,)\n",
    "    # Create a zero filled table for our estimates\n",
    "    F = np.zeros((nsteps,nsteps))\n",
    "    # First column of F is the center differencing estimate.  We can fill this\n",
    "    # without a loop!\n",
    "    harr = h / 2.**np.arange(nsteps)\n",
    "    F[:,0] = (f(z+harr,*args) - f(z-harr,*args)) / (2.*harr)\n",
    "    # Now iterate, unfortunately we do need one loop.  We could\n",
    "    # get rid of the inner loop but the algorithm is a little easier to\n",
    "    # understand if we do not.\n",
    "    fact = 1.0\n",
    "    for i in range(1,nsteps) :\n",
    "        fact *= 0.25\n",
    "        for j in range(1,i+1) :\n",
    "            F[i,j] = F[i-1,j-1] - (F[i-1,j-1] - F[i,j-1])/ (1-fact)\n",
    "    return F"
   ]
  },
  {
   "cell_type": "markdown",
   "metadata": {},
   "source": [
    "## Example 1\n",
    "\n",
    "As a test case consider the function\n",
    "$$ f(x) = \\mathrm{e}^{-x} \\sin x$$\n",
    "which has the derivative\n",
    "$$ f'(x) = -f(x) + \\mathrm{e}^{-x} \\cos x.$$\n",
    "We will calculate the derivative at $z=1$ using a step $h=0.9$."
   ]
  },
  {
   "cell_type": "code",
   "execution_count": 3,
   "metadata": {},
   "outputs": [],
   "source": [
    "# Define the function and its derivative\n",
    "def f(x) :\n",
    "    return np.exp(-x)*np.sin(x)\n",
    "\n",
    "def fderiv(x) :\n",
    "    return -f(x) + np.exp(-x)*np.cos(x)"
   ]
  },
  {
   "cell_type": "code",
   "execution_count": 4,
   "metadata": {},
   "outputs": [
    {
     "data": {
      "text/plain": [
       "array([[ 0.02844655,  0.        ,  0.        ,  0.        ,  0.        ,\n",
       "         0.        ],\n",
       "       [-0.07633703, -0.11126489,  0.        ,  0.        ,  0.        ,\n",
       "         0.        ],\n",
       "       [-0.1022064 , -0.10393103, -0.10344211,  0.        ,  0.        ,\n",
       "         0.        ],\n",
       "       [-0.10864868, -0.10875093, -0.10882744, -0.10891292,  0.        ,\n",
       "         0.        ],\n",
       "       [-0.1102576 , -0.11026391, -0.11026985, -0.1102755 , -0.11028085,\n",
       "         0.        ],\n",
       "       [-0.11065973, -0.11066012, -0.11066051, -0.11066089, -0.11066127,\n",
       "        -0.11066164]])"
      ]
     },
     "execution_count": 4,
     "metadata": {},
     "output_type": "execute_result"
    }
   ],
   "source": [
    "# Set up conditions and use Richardson extrapolation.\n",
    "z = 1.0\n",
    "h10 = 0.9\n",
    "h = h10 + z\n",
    "h -= z\n",
    "N = 6\n",
    "F = richardson_center(f, z, h, N)\n",
    "F"
   ]
  },
  {
   "cell_type": "markdown",
   "metadata": {},
   "source": [
    "Notice that the result comes back in a two dimensional array.  The first column constains the estimates from center differencing and the diagonal the improved estimates from Richardson extrapolation.  We can easily access these elements of the array using array slicing and the `diag` function.\n",
    "\n",
    "To more simply see the results we make a plot.  Notice that Richardson extrapolation happened to get very close to the true value on the second step, $F_2(h)$."
   ]
  },
  {
   "cell_type": "code",
   "execution_count": 5,
   "metadata": {},
   "outputs": [
    {
     "data": {
      "image/png": "[encoded data removed]",
      "text/plain": [
       "<Figure size 432x288 with 1 Axes>"
      ]
     },
     "metadata": {
      "needs_background": "light"
     },
     "output_type": "display_data"
    }
   ],
   "source": [
    "nstep = np.arange(N)+1\n",
    "plt.plot(nstep, F[:,0], 'ko', ms=5, label='Center Differencing')\n",
    "plt.plot(nstep, np.diag(F), 'rs', ms=5, label='Richardson Extrapolation')\n",
    "plt.axhline(fderiv(z), color='k', label='True Value')\n",
    "plt.xlim(0.5, nstep[-1]+0.5)\n",
    "plt.legend(loc='best')\n",
    "plt.xlabel('Step')\n",
    "plt.ylabel('Derivative Estimate')\n",
    "plt.minorticks_on()"
   ]
  },
  {
   "cell_type": "markdown",
   "metadata": {},
   "source": [
    "### Fractional Errors\n",
    "\n",
    "From the above plot it is hard to gauge the improvements that Richardson extrapolation provide.  Below we plot the fractional errors in the estimates."
   ]
  },
  {
   "cell_type": "code",
   "execution_count": 6,
   "metadata": {},
   "outputs": [
    {
     "data": {
      "text/plain": [
       "Text(0, 0.5, 'Fractional Error')"
      ]
     },
     "execution_count": 6,
     "metadata": {},
     "output_type": "execute_result"
    },
    {
     "data": {
      "image/png": "[encoded data removed]",
      "text/plain": [
       "<Figure size 432x288 with 1 Axes>"
      ]
     },
     "metadata": {
      "needs_background": "light"
     },
     "output_type": "display_data"
    }
   ],
   "source": [
    "cd_err = np.abs(1-F[:,0]/fderiv(z))\n",
    "re_err = np.abs(1-np.diag(F)/fderiv(z))\n",
    "plt.semilogy(nstep, cd_err, 'ko', ms=5, label='Center Differencing')\n",
    "plt.semilogy(nstep, re_err, 'rs', ms=5, label='Richardson Extrapolation')\n",
    "plt.xlim(0.5, nstep[-1]+0.5)\n",
    "plt.minorticks_on()\n",
    "plt.legend()\n",
    "plt.xlabel('Step')\n",
    "plt.ylabel('Fractional Error')"
   ]
  },
  {
   "cell_type": "markdown",
   "metadata": {},
   "source": [
    "In general we see that the improvements are not large.  Richardson extrapolation is somewhat better, but it is not magically producing huge improvements.  Even so, it is so simple to calculate that if we have gone through the trouble of calculating $F_1$ for various step sizes it would be silly to not combine them using Richardson extrapolation."
   ]
  },
  {
   "cell_type": "markdown",
   "metadata": {},
   "source": [
    "### Convergence Rate\n",
    "\n",
    "In this case, and in test cases we consider, we know the true answer so can compare our result to it.  In practice this is rarely the case, if we knew the true answer we would not need to perform the computation numerically!  To deal with this we typically test our code on cases with known results, and then look for other ways to check the reasonableness of results for more complicated cases.  One such test is to look at the convergence of our algorithm.\n",
    "\n",
    "The diagonal elements in the table we get back from Richardson extrapolation should be better and better estimates as we move down along the diagonal.  By taking the difference between these elements we get an estimate of the corrections made during each step of the algorithm.  In other words, if we calculate $|F_{i-1,i-1}-F_{i,i}|$ we learn how large a change is made at the next step of Richardson extrapolation.  If the algorithm is converging these values should get smaller and smaller, ie, we should need to apply smaller and smaller corrections.  This is **not** an estimate in the computational error, it instead shows how quickly our algorithm is settling down to a final value.  There is not even a guarantee that this final value will be accurate.  Even so, it is useful to compare this convergence rate to the absolute error as we will do below.\n",
    "\n",
    "To calculate these differences we can use the `diff` function.  Note that there is one fewer differences than there are elements in the array.  We will again use array slicing to make plotting the results easy."
   ]
  },
  {
   "cell_type": "code",
   "execution_count": 7,
   "metadata": {},
   "outputs": [
    {
     "data": {
      "image/png": "[encoded data removed]",
      "text/plain": [
       "<Figure size 432x288 with 1 Axes>"
      ]
     },
     "metadata": {
      "needs_background": "light"
     },
     "output_type": "display_data"
    }
   ],
   "source": [
    "re_abserr = np.abs(np.diag(F)-fderiv(z))\n",
    "re_convergence = np.abs(np.diff(np.diag(F)))\n",
    "plt.semilogy(nstep, re_abserr, 'ko', label='True Error')\n",
    "plt.semilogy(nstep[:-1], re_convergence, 'rs', label='Convergence Rate')\n",
    "plt.xlim(0.5, nstep[-1]+0.5)\n",
    "plt.legend()\n",
    "plt.xlabel('Step')\n",
    "plt.ylabel('Absolute Error/Convergence Rate')\n",
    "plt.minorticks_on()"
   ]
  },
  {
   "cell_type": "markdown",
   "metadata": {},
   "source": [
    "We see that for this function the convergence rate gives a reasonably good estimate of the absolute error.  This is **not always** the case."
   ]
  },
  {
   "cell_type": "markdown",
   "metadata": {},
   "source": [
    "## Example 2\n",
    "\n",
    "As another example we will consider the derivative of the gamma function.  The gamma function is one example of the many special functions we encounter in physics.  It is a particularly interesting function, it is the generalization of the factorial.  We are familiar with calculating the factorial of an integer, $n!$.  The gamma function generalizes this to arbitrary numbers, including both negative and complex numbers.  For a nonnegative integer $n! = \\Gamma(n+1)$.\n",
    "\n",
    "A large collection of special functions is contained in `scipy.special`.  We will encounter a number of them throughout the semester (including in the lab this week).\n",
    "\n",
    "For the purposes of this example we will just consider the derivative of the gamma function,\n",
    "$$ f(x) = \\Gamma(x) $$\n",
    "evaluated at $z=-0.6$ using a step of $h=0.9$.  It turns out that the derivative of the gamma function is also another special function.  Actually, the derivative of the log of the gamma function is known as the digamma function, $\\psi(x)$, so that\n",
    "$$ f'(x) = \\Gamma(x) \\psi(x). $$"
   ]
  },
  {
   "cell_type": "code",
   "execution_count": 8,
   "metadata": {},
   "outputs": [],
   "source": [
    "# Normally this would be done with the rest of the initialization above, but,\n",
    "# import the special functions and give them a short name.\n",
    "import scipy.special as sf"
   ]
  },
  {
   "cell_type": "code",
   "execution_count": 9,
   "metadata": {},
   "outputs": [],
   "source": [
    "# Define the function and its derivative.\n",
    "def f(x) :\n",
    "    return sf.gamma(x)\n",
    "\n",
    "def fderiv(x) :\n",
    "    return f(x) * sf.digamma(x)"
   ]
  },
  {
   "cell_type": "code",
   "execution_count": 14,
   "metadata": {},
   "outputs": [
    {
     "data": {
      "text/plain": [
       "array([[  0.34905399,   0.        ,   0.        ,   0.        ,\n",
       "          0.        ,   0.        ,   0.        ,   0.        ,\n",
       "          0.        ,   0.        ],\n",
       "       [-30.07032011, -40.21011147,   0.        ,   0.        ,\n",
       "          0.        ,   0.        ,   0.        ,   0.        ,\n",
       "          0.        ,   0.        ],\n",
       "       [  5.73980053,   8.12714191,  11.34962547,   0.        ,\n",
       "          0.        ,   0.        ,   0.        ,   0.        ,\n",
       "          0.        ,   0.        ],\n",
       "       [  3.74182426,   3.71011035,   3.63999874,   3.51762371,\n",
       "          0.        ,   0.        ,   0.        ,   0.        ,\n",
       "          0.        ,   0.        ],\n",
       "       [  3.40879194,   3.40748593,   3.40629916,   3.4053827 ,\n",
       "          3.40494253,   0.        ,   0.        ,   0.        ,\n",
       "          0.        ,   0.        ],\n",
       "       [  3.33255269,   3.33247816,   3.33240484,   3.33233261,\n",
       "          3.3322612 ,   3.33219015,   0.        ,   0.        ,\n",
       "          0.        ,   0.        ],\n",
       "       [  3.31389563,   3.31389107,   3.31388654,   3.31388201,\n",
       "          3.31387751,   3.31387302,   3.31386855,   0.        ,\n",
       "          0.        ,   0.        ],\n",
       "       [  3.30925602,   3.30925574,   3.30925546,   3.30925517,\n",
       "          3.30925489,   3.30925461,   3.30925433,   3.30925405,\n",
       "          0.        ,   0.        ],\n",
       "       [  3.30809765,   3.30809764,   3.30809762,   3.3080976 ,\n",
       "          3.30809758,   3.30809756,   3.30809755,   3.30809753,\n",
       "          3.30809751,   0.        ],\n",
       "       [  3.30780816,   3.30780816,   3.30780815,   3.30780815,\n",
       "          3.30780815,   3.30780815,   3.30780815,   3.30780815,\n",
       "          3.30780815,   3.30780815]])"
      ]
     },
     "execution_count": 14,
     "metadata": {},
     "output_type": "execute_result"
    }
   ],
   "source": [
    "# Set up conditions and use Richardson extrapolation.\n",
    "z = -0.6\n",
    "h10 = 0.9\n",
    "h = h10 + z\n",
    "h -= z\n",
    "N = 10\n",
    "F = richardson_center(f, z, h, N)\n",
    "F"
   ]
  },
  {
   "cell_type": "markdown",
   "metadata": {},
   "source": [
    "Plot the center differencing and Richardson extrapolation estimates.  Notice that Richardson extrapolation is **not always** better.  This is a common problem with numerical work, there is no guarantee that a more sophisticated algorithm will always produce more accurate results!"
   ]
  },
  {
   "cell_type": "code",
   "execution_count": 15,
   "metadata": {},
   "outputs": [
    {
     "data": {
      "text/plain": [
       "Text(0, 0.5, 'Derivative Estimate')"
      ]
     },
     "execution_count": 15,
     "metadata": {},
     "output_type": "execute_result"
    },
    {
     "data": {
      "image/png": "[encoded data removed]",
      "text/plain": [
       "<Figure size 432x288 with 1 Axes>"
      ]
     },
     "metadata": {
      "needs_background": "light"
     },
     "output_type": "display_data"
    }
   ],
   "source": [
    "nstep = np.arange(N)+1\n",
    "plt.plot(nstep, F[:,0], 'ko', ms=5, label='Center Differencing')\n",
    "plt.plot(nstep, np.diag(F), 'rs', ms=5, label='Richardson Extrapolation')\n",
    "plt.axhline(fderiv(z), color='k', label='True Value')\n",
    "plt.xlim(0.5, nstep[-1]+0.5)\n",
    "plt.minorticks_on()\n",
    "plt.legend(loc='best')\n",
    "plt.xlabel('Step')\n",
    "plt.ylabel('Derivative Estimate')"
   ]
  },
  {
   "cell_type": "markdown",
   "metadata": {},
   "source": [
    "To see this more clearly plot the fractional errors.  Notice that at step 4 Richard extrapolation does produce a more accurate result.  What happens if we use more steps?"
   ]
  },
  {
   "cell_type": "code",
   "execution_count": 16,
   "metadata": {},
   "outputs": [
    {
     "data": {
      "image/png": "[encoded data removed]",
      "text/plain": [
       "<Figure size 432x288 with 1 Axes>"
      ]
     },
     "metadata": {
      "needs_background": "light"
     },
     "output_type": "display_data"
    }
   ],
   "source": [
    "cd_err = np.abs(1-F[:,0]/fderiv(z))\n",
    "re_err = np.abs(1-np.diag(F)/fderiv(z))\n",
    "plt.semilogy(nstep, cd_err, 'ko', ms=5, label='Center Differencing')\n",
    "plt.semilogy(nstep, re_err, 'rs', ms=5, label='Richardson Extrapolation')\n",
    "plt.xlim(0.5, nstep[-1]+0.5)\n",
    "plt.legend()\n",
    "plt.xlabel('Step')\n",
    "plt.ylabel('Fractional Error')\n",
    "plt.minorticks_on()"
   ]
  },
  {
   "cell_type": "markdown",
   "metadata": {},
   "source": [
    "Again we look at the convergence rate."
   ]
  },
  {
   "cell_type": "code",
   "execution_count": 17,
   "metadata": {},
   "outputs": [
    {
     "data": {
      "image/png": "[encoded data removed]",
      "text/plain": [
       "<Figure size 432x288 with 1 Axes>"
      ]
     },
     "metadata": {
      "needs_background": "light"
     },
     "output_type": "display_data"
    }
   ],
   "source": [
    "re_abserr = np.abs(np.diag(F)-fderiv(z))\n",
    "re_convergence = np.abs(np.diff(np.diag(F)))\n",
    "plt.semilogy(nstep, re_abserr, 'ko', label='True Error')\n",
    "plt.semilogy(nstep[:-1], re_convergence, 'rs', label='Convergence Rate')\n",
    "plt.xlim(0.5, nstep[-1]+0.5)\n",
    "plt.legend()\n",
    "plt.xlabel('Step')\n",
    "plt.ylabel('Absolute Error/Convergence Rate')\n",
    "plt.minorticks_on()"
   ]
  },
  {
   "cell_type": "code",
   "execution_count": null,
   "metadata": {},
   "outputs": [],
   "source": []
  }
 ],
 "metadata": {
  "anaconda-cloud": {},
  "kernelspec": {
   "display_name": "Python 3",
   "language": "python",
   "name": "python3"
  },
  "language_info": {
   "codemirror_mode": {
    "name": "ipython",
    "version": 3
   },
   "file_extension": ".py",
   "mimetype": "text/x-python",
   "name": "python",
   "nbconvert_exporter": "python",
   "pygments_lexer": "ipython3",
   "version": "3.7.1"
  }
 },
 "nbformat": 4,
 "nbformat_minor": 2
}
